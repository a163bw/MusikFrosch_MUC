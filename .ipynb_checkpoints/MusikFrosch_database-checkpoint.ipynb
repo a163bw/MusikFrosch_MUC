{
 "cells": [
  {
   "cell_type": "code",
   "execution_count": 1,
   "id": "cc0a570e-8017-435c-b811-cdb227f51b7d",
   "metadata": {},
   "outputs": [],
   "source": [
    "import pandas as pd\n",
    "import numpy as np\n",
    "import voila\n",
    "from IPython.display import HTML\n",
    "from datetime import date, timedelta, datetime\n",
    "\n",
    "import ipywidgets as widgets\n",
    "from ipywidgets import fixed, interact, interact_manual, interactive\n",
    "\n",
    "#HTML(df['URL'].to_html(render_links=True, escape=False))"
   ]
  },
  {
   "cell_type": "code",
   "execution_count": 2,
   "id": "b74f9b2c-0290-44fd-8f0b-b6f18089c613",
   "metadata": {},
   "outputs": [],
   "source": [
    "#load dataframe\n",
    "df = pd.read_csv('df_10fin.csv')\n",
    "# Date from string to timesteamp\n",
    "for INDEX, row in df.iterrows():\n",
    "    df.loc[INDEX,'Date'] = pd.to_datetime(row['Date'])\n",
    "    df['name'] = '<a href=\"{}\" rel=\"noopener noreferrer\" target=\"_blank\">{}</a>'.format(df['URL'],df['Event'])\n",
    "    #df.loc[INDEX,'URL'] = '<a href=\"{}\">{}</a>'.format(row['URL'],row['URL']).to_html\n",
    "\n",
    "try:\n",
    "    df = df.drop(columns=['index', 'level_0'])\n",
    "except:\n",
    "    pass\n",
    "\n",
    "#df = df.dropna(subset=['Date']).style.format({'Date':'{:%Y-%m-%d}'})\n",
    "\n",
    "pd.set_option('display.max_rows', 500)"
   ]
  },
  {
   "cell_type": "code",
   "execution_count": 3,
   "id": "73e0775c-63a6-4b00-a807-af082b0e1b10",
   "metadata": {},
   "outputs": [],
   "source": [
    "\n",
    "\n",
    "start_date = widgets.DatePicker(description='start date',\n",
    "                                disabled=False, value=date.today()\n",
    "                               )\n",
    "end_date = widgets.DatePicker(description='end date',\n",
    "                                disabled=False, value=date.today() + timedelta(days=365)\n",
    "                               )\n",
    "\n",
    "button = widgets.Button(description=\"Update\")\n",
    "button_right = widgets.Button(description=\">\")\n",
    "button_left = widgets.Button(description=\"<\")\n",
    "output = widgets.Output()\n",
    "\n",
    "a = 0\n",
    "aa = 100\n",
    "\n",
    "def mydisplay(dataframe, start_index, end_index):\n",
    "    display(dataframe[start_index:end_index][[\"Date\", \"TYPE\", \"Event\", \"Location\",  \"Artist\", \"URL\"]])\n",
    "\n",
    "def on_button_clicked(b):\n",
    "    output.clear_output()\n",
    "    a = 0\n",
    "    aa = 100\n",
    "    df_=(df[(df['Date']>=pd.Timestamp(start_date.value)) & (df['Date']<=pd.Timestamp(end_date.value))]).copy(deep=True)\n",
    "    with output:\n",
    "        mydisplay(df_, a, aa)\n",
    "\n",
    "def on_button_clicked_arrow_right(b):\n",
    "    if a - 100 >=len(df_): \n",
    "        b=len(df_)\n",
    "    else:\n",
    "        a += 100\n",
    "        aa += 100\n",
    "        \n",
    "    output.clear_output()\n",
    "    df_=(df[(df['Date']>=pd.Timestamp(start_date.value)) & (df['Date']<=pd.Timestamp(end_date.value))]).copy(deep=True)\n",
    "\n",
    "    with output:\n",
    "        mydisplay(df_, a, aa)\n",
    "        \n",
    "def on_button_clicked_arrow_left(b):\n",
    "    if a - 100 <=0: \n",
    "        a=0\n",
    "        aa=100\n",
    "    else:\n",
    "        a -= 100\n",
    "        aa -= 100\n",
    "        \n",
    "    output.clear_output()\n",
    "    df_=(df[(df['Date']>=pd.Timestamp(start_date.value)) & (df['Date']<=pd.Timestamp(end_date.value))]).copy(deep=True)\n",
    "\n",
    "    with output:\n",
    "        mydisplay(df_, a, aa)\n",
    "\n"
   ]
  },
  {
   "cell_type": "code",
   "execution_count": 4,
   "id": "9a005575-bfcb-44a3-bb12-b5df8ae2881e",
   "metadata": {},
   "outputs": [],
   "source": [
    "#df[1:100][[\"Date\", \"TYPE\", \"Event\", \"Location\",  \"Artist\", \"URL\"]]"
   ]
  },
  {
   "cell_type": "code",
   "execution_count": 9,
   "id": "78a8faf3-4e26-4753-8033-add71175b9b2",
   "metadata": {
    "scrolled": false
   },
   "outputs": [
    {
     "data": {
      "application/vnd.jupyter.widget-view+json": {
       "model_id": "24c74c6d15dc4120bd2888fe0266cf72",
       "version_major": 2,
       "version_minor": 0
      },
      "text/plain": [
       "DatePicker(value=datetime.date(2024, 2, 19), description='start date', step=1)"
      ]
     },
     "metadata": {},
     "output_type": "display_data"
    },
    {
     "data": {
      "application/vnd.jupyter.widget-view+json": {
       "model_id": "6bb4ed3c889b43ed9ea2cc917b903adb",
       "version_major": 2,
       "version_minor": 0
      },
      "text/plain": [
       "DatePicker(value=datetime.date(2025, 2, 18), description='end date', step=1)"
      ]
     },
     "metadata": {},
     "output_type": "display_data"
    },
    {
     "data": {
      "application/vnd.jupyter.widget-view+json": {
       "model_id": "f7b73bf1c1704a52a56ab72b9dc63177",
       "version_major": 2,
       "version_minor": 0
      },
      "text/plain": [
       "Button(description='Update', style=ButtonStyle())"
      ]
     },
     "metadata": {},
     "output_type": "display_data"
    },
    {
     "data": {
      "application/vnd.jupyter.widget-view+json": {
       "model_id": "480349657bcb4306b52499a41dc090d0",
       "version_major": 2,
       "version_minor": 0
      },
      "text/plain": [
       "Output(outputs=({'output_type': 'display_data', 'data': {'text/plain': '                    Date              …"
      ]
     },
     "metadata": {},
     "output_type": "display_data"
    }
   ],
   "source": [
    "# layout\n",
    "display(start_date)\n",
    "display(end_date)\n",
    "#display(button_left,button, button_right, output)\n",
    "\n",
    "display(button, output)\n",
    "\n",
    "#button_right.on_click(on_button_clicked_arrow_left)\n",
    "button.on_click(on_button_clicked)\n",
    "#button_left.on_click(on_button_clicked_arrow_right)"
   ]
  },
  {
   "cell_type": "code",
   "execution_count": 8,
   "id": "202b9ec0-fb35-479e-98e9-6b0f4e5bac9f",
   "metadata": {},
   "outputs": [],
   "source": [
    "# https://panel.holoviz.org/reference/widgets/Tabulator.html"
   ]
  },
  {
   "cell_type": "code",
   "execution_count": null,
   "id": "a9f075d8-e752-48ad-b995-d03d54bf2e83",
   "metadata": {},
   "outputs": [],
   "source": []
  },
  {
   "cell_type": "code",
   "execution_count": null,
   "id": "c9e140e8",
   "metadata": {},
   "outputs": [],
   "source": []
  },
  {
   "cell_type": "code",
   "execution_count": null,
   "id": "f384444e",
   "metadata": {},
   "outputs": [],
   "source": []
  },
  {
   "cell_type": "code",
   "execution_count": null,
   "id": "156ff48d",
   "metadata": {},
   "outputs": [],
   "source": []
  },
  {
   "cell_type": "code",
   "execution_count": null,
   "id": "b10ca3a1",
   "metadata": {},
   "outputs": [],
   "source": []
  }
 ],
 "metadata": {
  "kernelspec": {
   "display_name": "Python 3 (ipykernel)",
   "language": "python",
   "name": "python3"
  },
  "language_info": {
   "codemirror_mode": {
    "name": "ipython",
    "version": 3
   },
   "file_extension": ".py",
   "mimetype": "text/x-python",
   "name": "python",
   "nbconvert_exporter": "python",
   "pygments_lexer": "ipython3",
   "version": "3.11.5"
  }
 },
 "nbformat": 4,
 "nbformat_minor": 5
}
