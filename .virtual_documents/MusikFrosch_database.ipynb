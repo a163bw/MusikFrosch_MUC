import pandas as pd
import numpy as np
import voila
from datetime import date, timedelta, datetime

import ipywidgets as widgets
from ipywidgets import fixed, interact, interact_manual, interactive


#load dataframe
df = pd.read_csv('df_10fin.csv')
# Date from string to timesteamp
for INDEX, row in df.iterrows():
    df.loc[INDEX,'Date'] = pd.to_datetime(row['Date'])




start_date = widgets.DatePicker(description='start date',
                                disabled=False, value=date.today()
                               )
end_date = widgets.DatePicker(description='end date',
                                disabled=False, value=date.today() + timedelta(days=365)
                               )

button = widgets.Button(description="Update")
output = widgets.Output()



def on_button_clicked(b):
    with output:
        display(df[(df['Date']>=pd.Timestamp(start_date.value)) & (df['Date']<=pd.Timestamp(end_date.value))])




# layout
display(start_date)
display(end_date)
display(button, output)
button.on_click(on_button_clicked)






